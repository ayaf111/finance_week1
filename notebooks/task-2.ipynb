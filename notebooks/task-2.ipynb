{
 "cells": [
  {
   "cell_type": "code",
   "execution_count": 16,
   "id": "7cdee327",
   "metadata": {},
   "outputs": [
    {
     "name": "stdout",
     "output_type": "stream",
     "text": [
      "c:\\Users\\Student\\solar-challenge-week-0\\.venv\\Scripts\\python.exe\n"
     ]
    }
   ],
   "source": [
    "import sys\n",
    "print(sys.executable)"
   ]
  },
  {
   "cell_type": "markdown",
   "id": "ce904251",
   "metadata": {},
   "source": [
    "QUANTITATIVE ANALYSIS"
   ]
  },
  {
   "cell_type": "code",
   "execution_count": 1,
   "id": "1549ef57",
   "metadata": {},
   "outputs": [
    {
     "name": "stdout",
     "output_type": "stream",
     "text": [
      "0.6.3\n"
     ]
    }
   ],
   "source": [
    "import talib\n",
    "print(talib.__version__)\n"
   ]
  },
  {
   "cell_type": "code",
   "execution_count": 4,
   "id": "a7255ec2",
   "metadata": {},
   "outputs": [
    {
     "name": "stdout",
     "output_type": "stream",
     "text": [
      "✅ Folder found.\n",
      "📄 Files: ['AAPL_historical_data.csv', 'AMZN_historical_data.csv', 'GOOG_historical_data.csv', 'META_historical_data.csv', 'MSFT_historical_data.csv', 'NVDA_historical_data.csv', 'TSLA_historical_data.csv']\n"
     ]
    }
   ],
   "source": [
    "folder_path = '../yfinance_data/the file'  # or your full absolute path\n",
    "\n",
    "if not os.path.exists(folder_path):\n",
    "    print(\"❌ Folder not found:\", folder_path)\n",
    "else:\n",
    "    print(\"✅ Folder found.\")\n",
    "    print(\"📄 Files:\", os.listdir(folder_path))\n"
   ]
  },
  {
   "cell_type": "code",
   "execution_count": 3,
   "id": "50a522c6",
   "metadata": {},
   "outputs": [
    {
     "name": "stdout",
     "output_type": "stream",
     "text": [
      "✅ Loaded: AAPL_historical_data\n",
      "✅ Loaded: AMZN_historical_data\n",
      "✅ Loaded: GOOG_historical_data\n",
      "✅ Loaded: META_historical_data\n",
      "✅ Loaded: MSFT_historical_data\n",
      "✅ Loaded: NVDA_historical_data\n",
      "✅ Loaded: TSLA_historical_data\n"
     ]
    }
   ],
   "source": [
    "import pandas as pd\n",
    "import os\n",
    "\n",
    "data_dict = {}\n",
    "\n",
    "for filename in os.listdir(folder_path):\n",
    "    if filename.endswith('.csv'):\n",
    "        file_path = os.path.join(folder_path, filename)\n",
    "        df = pd.read_csv(file_path)\n",
    "        ticker = filename.replace('.csv', '')\n",
    "        data_dict[ticker] = df\n",
    "        print(f\"✅ Loaded: {ticker}\")"
   ]
  },
  {
   "cell_type": "code",
   "execution_count": 5,
   "id": "7be6b6d6",
   "metadata": {},
   "outputs": [
    {
     "name": "stdout",
     "output_type": "stream",
     "text": [
      "Loading file: ../yfinance_data/the file\\AAPL_historical_data.csv\n",
      "✅ First few rows:\n",
      "         Date      Open      High       Low     Close  Adj Close     Volume  \\\n",
      "0  1980-12-12  0.128348  0.128906  0.128348  0.128348   0.098943  469033600   \n",
      "1  1980-12-15  0.122210  0.122210  0.121652  0.121652   0.093781  175884800   \n",
      "2  1980-12-16  0.113281  0.113281  0.112723  0.112723   0.086898  105728000   \n",
      "3  1980-12-17  0.115513  0.116071  0.115513  0.115513   0.089049   86441600   \n",
      "4  1980-12-18  0.118862  0.119420  0.118862  0.118862   0.091630   73449600   \n",
      "\n",
      "   Dividends  Stock Splits  \n",
      "0        0.0           0.0  \n",
      "1        0.0           0.0  \n",
      "2        0.0           0.0  \n",
      "3        0.0           0.0  \n",
      "4        0.0           0.0  \n"
     ]
    }
   ],
   "source": [
    "import pandas as pd\n",
    "\n",
    "file_path = os.path.join(folder_path, os.listdir(folder_path)[0])\n",
    "print(\"Loading file:\", file_path)\n",
    "\n",
    "df = pd.read_csv(file_path)\n",
    "print(\"✅ First few rows:\")\n",
    "print(df.head())"
   ]
  },
  {
   "cell_type": "code",
   "execution_count": 6,
   "id": "28efb88c",
   "metadata": {},
   "outputs": [
    {
     "name": "stdout",
     "output_type": "stream",
     "text": [
      "                  Open        High         Low       Close    Volume\n",
      "Date                                                                \n",
      "2024-07-24  224.000000  224.800003  217.130005  218.539993  61777600\n",
      "2024-07-25  218.929993  220.850006  214.619995  217.490005  51391200\n",
      "2024-07-26  218.699997  219.490005  216.009995  217.960007  41601300\n",
      "2024-07-29  216.960007  219.300003  215.750000  218.240005  36311800\n",
      "2024-07-30  219.190002  220.330002  216.119995  218.800003  41643800\n"
     ]
    }
   ],
   "source": [
    "import pandas as pd\n",
    "import os\n",
    "\n",
    "# Path to the directory containing your CSV files\n",
    "folder_path = \"../yfinance_data/the file\"  # e.g., \"./stock_data\"\n",
    "\n",
    "# List to hold individual DataFrames\n",
    "dataframes = {}\n",
    "\n",
    "# Loop through all CSV files in the folder\n",
    "for filename in os.listdir(folder_path):\n",
    "    if filename.endswith(\".csv\"):\n",
    "        stock_name = filename.replace(\".csv\", \"\")\n",
    "        file_path = os.path.join(folder_path, filename)\n",
    "        \n",
    "        # Load CSV into DataFrame\n",
    "        df = pd.read_csv(file_path, parse_dates=True, index_col=0)\n",
    "        \n",
    "        # Keep only relevant columns\n",
    "        df = df[['Open', 'High', 'Low', 'Close', 'Volume']]\n",
    "        df.dropna(inplace=True)\n",
    "        \n",
    "        # Save into dictionary with stock name as key\n",
    "        dataframes[stock_name] = df\n",
    "\n",
    "# Example: View tail of a specific stock (e.g., AAPL)\n",
    "print(dataframes['AAPL_historical_data'].tail())"
   ]
  },
  {
   "cell_type": "code",
   "execution_count": 7,
   "id": "86d19af0",
   "metadata": {},
   "outputs": [
    {
     "name": "stdout",
     "output_type": "stream",
     "text": [
      "✅ Processed: AAPL_historical_data\n",
      "✅ Processed: AMZN_historical_data\n",
      "✅ Processed: GOOG_historical_data\n",
      "✅ Processed: META_historical_data\n",
      "✅ Processed: MSFT_historical_data\n",
      "✅ Processed: NVDA_historical_data\n",
      "✅ Processed: TSLA_historical_data\n"
     ]
    }
   ],
   "source": [
    "import os\n",
    "import pandas as pd\n",
    "import talib\n",
    "\n",
    "# Folder with your CSV files\n",
    "folder_path = \"../yfinance_data/the file\"\n",
    "\n",
    "# Dictionary to store stock data with indicators\n",
    "data_dict = {}\n",
    "\n",
    "for filename in os.listdir(folder_path):\n",
    "    if filename.endswith('.csv'):\n",
    "        file_path = os.path.join(folder_path, filename)\n",
    "        df = pd.read_csv(file_path, parse_dates=True, index_col=0)\n",
    "\n",
    "        # Ensure the required columns exist\n",
    "        if all(col in df.columns for col in ['Open', 'High', 'Low', 'Close', 'Volume']):\n",
    "            # Add TA indicators\n",
    "            df['SMA_20'] = talib.SMA(df['Close'], timeperiod=20)\n",
    "            df['RSI_14'] = talib.RSI(df['Close'], timeperiod=14)\n",
    "            \n",
    "            macd, macd_signal, macd_hist = talib.MACD(df['Close'], fastperiod=12, slowperiod=26, signalperiod=9)\n",
    "            df['MACD'] = macd\n",
    "            df['MACD_Signal'] = macd_signal\n",
    "            df['MACD_Hist'] = macd_hist\n",
    "\n",
    "            # Drop NaNs generated by TA calculations\n",
    "            df.dropna(inplace=True)\n",
    "\n",
    "            # Save to dictionary\n",
    "            ticker = filename.replace('.csv', '')\n",
    "            data_dict[ticker] = df\n",
    "            print(f\"✅ Processed: {ticker}\")\n",
    "        else:\n",
    "            print(f\"❌ Missing required columns in: {filename}\")\n"
   ]
  },
  {
   "cell_type": "code",
   "execution_count": 8,
   "id": "9dafc9ae",
   "metadata": {},
   "outputs": [
    {
     "name": "stdout",
     "output_type": "stream",
     "text": [
      "[0.61835433 0.56124123 0.42884406 0.52488393 0.49241075]\n"
     ]
    }
   ],
   "source": [
    "import talib\n",
    "import numpy as np\n",
    "\n",
    "data = np.random.random(100)\n",
    "sma = talib.SMA(data, timeperiod=5)\n",
    "print(sma[-5:])"
   ]
  }
 ],
 "metadata": {
  "kernelspec": {
   "display_name": "Python (finance_week1)",
   "language": "python",
   "name": "finance_week1"
  },
  "language_info": {
   "codemirror_mode": {
    "name": "ipython",
    "version": 3
   },
   "file_extension": ".py",
   "mimetype": "text/x-python",
   "name": "python",
   "nbconvert_exporter": "python",
   "pygments_lexer": "ipython3",
   "version": "3.9.4"
  }
 },
 "nbformat": 4,
 "nbformat_minor": 5
}
